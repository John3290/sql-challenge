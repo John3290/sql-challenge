{
 "cells": [
  {
   "cell_type": "markdown",
   "metadata": {},
   "source": [
    "Data Engineering\n",
    "\n",
    "\n",
    "Use the information you have to create a table schema for each of the six CSV files. Remember to specify data types, primary keys, foreign keys, and other constraints.\n",
    "\n",
    "For the primary keys check to see if the column is unique, otherwise create a composite key. Which takes to primary keys in order to uniquely identify a row.\n",
    "Be sure to create tables in the correct order to handle foreign keys.\n",
    "\n",
    "\n",
    "\n",
    "Import each CSV file into the corresponding SQL table. Note be sure to import the data in the same order that the tables were created and account for the headers when importing to avoid errors."
   ]
  },
  {
   "cell_type": "code",
   "execution_count": null,
   "metadata": {},
   "outputs": [],
   "source": []
  },
  {
   "cell_type": "markdown",
   "metadata": {},
   "source": [
    "Data Analysis\n",
    "Once you have a complete database, do the following:\n",
    "\n",
    "\n",
    "List the following details of each employee: employee number, last name, first name, sex, and salary.\n",
    "\n",
    "\n",
    "List first name, last name, and hire date for employees who were hired in 1986.\n",
    "\n",
    "\n",
    "List the manager of each department with the following information: department number, department name, the manager's employee number, last name, first name.\n",
    "\n",
    "\n",
    "List the department of each employee with the following information: employee number, last name, first name, and department name.\n",
    "\n",
    "\n",
    "List first name, last name, and sex for employees whose first name is \"Hercules\" and last names begin with \"B.\"\n",
    "\n",
    "\n",
    "List all employees in the Sales department, including their employee number, last name, first name, and department name.\n",
    "\n",
    "\n",
    "List all employees in the Sales and Development departments, including their employee number, last name, first name, and department name.\n",
    "\n",
    "\n",
    "In descending order, list the frequency count of employee last names, i.e., how many employees share each last name."
   ]
  },
  {
   "cell_type": "code",
   "execution_count": null,
   "metadata": {},
   "outputs": [],
   "source": []
  }
 ],
 "metadata": {
  "kernelspec": {
   "display_name": "Python 3",
   "language": "python",
   "name": "python3"
  },
  "language_info": {
   "codemirror_mode": {
    "name": "ipython",
    "version": 3
   },
   "file_extension": ".py",
   "mimetype": "text/x-python",
   "name": "python",
   "nbconvert_exporter": "python",
   "pygments_lexer": "ipython3",
   "version": "3.8.3"
  }
 },
 "nbformat": 4,
 "nbformat_minor": 4
}
